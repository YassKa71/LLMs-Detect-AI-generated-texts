{
 "cells": [
  {
   "cell_type": "code",
   "execution_count": 1,
   "metadata": {
    "_cell_guid": "b1076dfc-b9ad-4769-8c92-a6c4dae69d19",
    "_uuid": "8f2839f25d086af736a60e9eeb907d3b93b6e0e5",
    "execution": {
     "iopub.execute_input": "2024-02-12T09:39:16.402158Z",
     "iopub.status.busy": "2024-02-12T09:39:16.401865Z",
     "iopub.status.idle": "2024-02-12T09:39:16.977214Z",
     "shell.execute_reply": "2024-02-12T09:39:16.975930Z",
     "shell.execute_reply.started": "2024-02-12T09:39:16.402124Z"
    },
    "trusted": true
   },
   "outputs": [
    {
     "name": "stdout",
     "output_type": "stream",
     "text": [
      "/kaggle/input/generated-prompt1/gen_data_Distance learning.csv\n",
      "/kaggle/input/persaude-corpus-2/persuade_corpus_1.0.csv\n",
      "/kaggle/input/persaude-corpus-2/persuade_2.0_human_scores_demo_id_github.csv\n",
      "/kaggle/input/persaude-corpus-2/sources.csv\n",
      "/kaggle/input/llm-detect-ai-generated-text/sample_submission.csv\n",
      "/kaggle/input/llm-detect-ai-generated-text/train_prompts.csv\n",
      "/kaggle/input/llm-detect-ai-generated-text/test_essays.csv\n",
      "/kaggle/input/llm-detect-ai-generated-text/train_essays.csv\n",
      "/kaggle/input/llm-generated-essays/ai_generated_train_essays.csv\n",
      "/kaggle/input/llm-generated-essays/ai_generated_train_essays_gpt-4.csv\n",
      "/kaggle/input/augmented-data-for-llm-detect-ai-generated-text/final_train.csv\n",
      "/kaggle/input/augmented-data-for-llm-detect-ai-generated-text/final_test.csv\n",
      "/kaggle/input/tokenizer/merges.txt\n",
      "/kaggle/input/tokenizer/vocab.json\n",
      "/kaggle/input/tokenizer/tokenizer_config.json\n",
      "/kaggle/input/tokenizer/special_tokens_map.json\n",
      "/kaggle/input/mistral/pytorch/7b-instruct-v0.1-hf/1/config.json\n",
      "/kaggle/input/mistral/pytorch/7b-instruct-v0.1-hf/1/pytorch_model-00002-of-00002.bin\n",
      "/kaggle/input/mistral/pytorch/7b-instruct-v0.1-hf/1/tokenizer.json\n",
      "/kaggle/input/mistral/pytorch/7b-instruct-v0.1-hf/1/tokenizer_config.json\n",
      "/kaggle/input/mistral/pytorch/7b-instruct-v0.1-hf/1/pytorch_model.bin.index.json\n",
      "/kaggle/input/mistral/pytorch/7b-instruct-v0.1-hf/1/pytorch_model-00001-of-00002.bin\n",
      "/kaggle/input/mistral/pytorch/7b-instruct-v0.1-hf/1/special_tokens_map.json\n",
      "/kaggle/input/mistral/pytorch/7b-instruct-v0.1-hf/1/.gitattributes\n",
      "/kaggle/input/mistral/pytorch/7b-instruct-v0.1-hf/1/tokenizer.model\n",
      "/kaggle/input/mistral/pytorch/7b-instruct-v0.1-hf/1/generation_config.json\n",
      "/kaggle/input/longformer-model/config.json\n",
      "/kaggle/input/longformer-model/model.safetensors\n",
      "/kaggle/input/daigt-v2-train-dataset/train_v2_drcat_02.csv\n",
      "/kaggle/input/gen-data-prompt2/gen_data_2.csv\n"
     ]
    }
   ],
   "source": [
    "# This Python 3 environment comes with many helpful analytics libraries installed\n",
    "# It is defined by the kaggle/python Docker image: https://github.com/kaggle/docker-python\n",
    "# For example, here's several helpful packages to load\n",
    "\n",
    "import numpy as np # linear algebra\n",
    "import pandas as pd # data processing, CSV file I/O (e.g. pd.read_csv)\n",
    "\n",
    "# Input data files are available in the read-only \"../input/\" directory\n",
    "# For example, running this (by clicking run or pressing Shift+Enter) will list all files under the input directory\n",
    "\n",
    "import os\n",
    "for dirname, _, filenames in os.walk('/kaggle/input'):\n",
    "    for filename in filenames:\n",
    "        print(os.path.join(dirname, filename))\n",
    "\n",
    "# You can write up to 20GB to the current directory (/kaggle/working/) that gets preserved as output when you create a version using \"Save & Run All\" \n",
    "# You can also write temporary files to /kaggle/temp/, but they won't be saved outside of the current session"
   ]
  },
  {
   "cell_type": "markdown",
   "metadata": {},
   "source": [
    "## I- Data Preparation"
   ]
  },
  {
   "cell_type": "markdown",
   "metadata": {},
   "source": [
    "Let's first prepare the dataset: We'll choose 3 different prompts from the persuade corpus with 400 student written essays for each, and we'll generate for each prompt 400 essays using Mistral7B. There will be in the end 3 dataframes with two columns : \n",
    "* \"text\" (str): the responses to the prompt \n",
    "* \"generated\" (bool): wether the responses are AI generated or not.\n",
    "Each one of these 3 dataframes corresponds to one of the chosen prompts."
   ]
  },
  {
   "cell_type": "code",
   "execution_count": 2,
   "metadata": {
    "execution": {
     "iopub.execute_input": "2024-02-12T09:39:20.615942Z",
     "iopub.status.busy": "2024-02-12T09:39:20.614899Z",
     "iopub.status.idle": "2024-02-12T09:39:20.621098Z",
     "shell.execute_reply": "2024-02-12T09:39:20.619592Z",
     "shell.execute_reply.started": "2024-02-12T09:39:20.615896Z"
    },
    "trusted": true
   },
   "outputs": [],
   "source": [
    "# configurations\n",
    "prompts_names = [\"Distance learning\", \"Does the electoral college work?\",\"Community service\"]\n",
    "n_essays = 400"
   ]
  },
  {
   "cell_type": "markdown",
   "metadata": {},
   "source": [
    "### 1. Non generated essays preparation"
   ]
  },
  {
   "cell_type": "code",
   "execution_count": 3,
   "metadata": {
    "execution": {
     "iopub.execute_input": "2024-02-12T09:39:22.572286Z",
     "iopub.status.busy": "2024-02-12T09:39:22.571524Z",
     "iopub.status.idle": "2024-02-12T09:39:25.691156Z",
     "shell.execute_reply": "2024-02-12T09:39:25.690176Z",
     "shell.execute_reply.started": "2024-02-12T09:39:22.572240Z"
    },
    "trusted": true
   },
   "outputs": [],
   "source": [
    "# preparing dataframes for non generated essays\n",
    "all_df = pd.read_csv(\"/kaggle/input/daigt-v2-train-dataset/train_v2_drcat_02.csv\")\n",
    "all_df.rename(columns={'label': 'generated'}, inplace=True)\n",
    "all_df = all_df[all_df[\"generated\"]==0]\n",
    "all_df_prompt0 = all_df[all_df[\"prompt_name\"]==prompts_names[0]].head(n_essays)\n",
    "all_df_prompt0.drop(columns=[\"prompt_name\", \"source\", \"RDizzl3_seven\"], inplace=True)\n",
    "all_df_prompt1 = all_df[all_df[\"prompt_name\"]==prompts_names[1]].head(n_essays)\n",
    "all_df_prompt1.drop(columns=[\"prompt_name\", \"source\", \"RDizzl3_seven\"], inplace=True)\n",
    "all_df_prompt2 = all_df[all_df[\"prompt_name\"]==prompts_names[2]].head(n_essays)\n",
    "all_df_prompt2.drop(columns=[\"prompt_name\", \"source\", \"RDizzl3_seven\"], inplace=True)"
   ]
  },
  {
   "cell_type": "code",
   "execution_count": 4,
   "metadata": {
    "execution": {
     "iopub.execute_input": "2024-02-12T09:39:27.774731Z",
     "iopub.status.busy": "2024-02-12T09:39:27.774346Z",
     "iopub.status.idle": "2024-02-12T09:39:27.792782Z",
     "shell.execute_reply": "2024-02-12T09:39:27.791735Z",
     "shell.execute_reply.started": "2024-02-12T09:39:27.774704Z"
    },
    "trusted": true
   },
   "outputs": [
    {
     "data": {
      "text/plain": [
       "3316.77"
      ]
     },
     "execution_count": 4,
     "metadata": {},
     "output_type": "execute_result"
    }
   ],
   "source": [
    "# mean length of texts\n",
    "import statistics\n",
    "lengths = [len(all_df_prompt0[\"text\"].iloc[i]) for i in range(400)]\n",
    "statistics.mean(lengths)"
   ]
  },
  {
   "cell_type": "markdown",
   "metadata": {},
   "source": [
    "### 2- Generating essays using Mistral7B"
   ]
  },
  {
   "cell_type": "code",
   "execution_count": 5,
   "metadata": {
    "execution": {
     "iopub.execute_input": "2024-02-12T09:39:30.328924Z",
     "iopub.status.busy": "2024-02-12T09:39:30.328569Z",
     "iopub.status.idle": "2024-02-12T09:39:32.099361Z",
     "shell.execute_reply": "2024-02-12T09:39:32.098251Z",
     "shell.execute_reply.started": "2024-02-12T09:39:30.328894Z"
    },
    "trusted": true
   },
   "outputs": [],
   "source": [
    "# getting prompts instructions from persuade corpus\n",
    "persuade_corpus = pd.read_csv(\"/kaggle/input/persaude-corpus-2/persuade_2.0_human_scores_demo_id_github.csv\")\n",
    "assignements = persuade_corpus[\"assignment\"][persuade_corpus[\"prompt_name\"].isin(prompts_names)].drop_duplicates()"
   ]
  },
  {
   "cell_type": "code",
   "execution_count": 6,
   "metadata": {
    "execution": {
     "iopub.execute_input": "2024-02-12T09:39:33.788216Z",
     "iopub.status.busy": "2024-02-12T09:39:33.787739Z",
     "iopub.status.idle": "2024-02-12T09:39:33.795191Z",
     "shell.execute_reply": "2024-02-12T09:39:33.794212Z",
     "shell.execute_reply.started": "2024-02-12T09:39:33.788175Z"
    },
    "trusted": true
   },
   "outputs": [
    {
     "data": {
      "text/plain": [
       "'Some schools offer distance learning as an option for students to attend classes from home by way of online or video conferencing. Do you think students would benefit from being able to attend classes from home? Take a position on this issue. Support your response with reasons and examples.'"
      ]
     },
     "execution_count": 6,
     "metadata": {},
     "output_type": "execute_result"
    }
   ],
   "source": [
    "assignements.iloc[2]"
   ]
  },
  {
   "cell_type": "code",
   "execution_count": 7,
   "metadata": {
    "execution": {
     "iopub.execute_input": "2024-02-12T01:00:45.681223Z",
     "iopub.status.busy": "2024-02-12T01:00:45.680888Z",
     "iopub.status.idle": "2024-02-12T01:00:45.692264Z",
     "shell.execute_reply": "2024-02-12T01:00:45.691362Z",
     "shell.execute_reply.started": "2024-02-12T01:00:45.681198Z"
    },
    "trusted": true
   },
   "outputs": [
    {
     "data": {
      "text/plain": [
       "prompt_name\n",
       "Facial action coding system              2167\n",
       "Distance learning                        2157\n",
       "Does the electoral college work?         2046\n",
       "Car-free cities                          1959\n",
       "Driverless cars                          1886\n",
       "Exploring Venus                          1862\n",
       "Summer projects                          1750\n",
       "Mandatory extracurricular activities     1670\n",
       "Cell phones at school                    1656\n",
       "Grades for extracurricular activities    1626\n",
       "The Face on Mars                         1583\n",
       "Seeking multiple opinions                1552\n",
       "Community service                        1542\n",
       "\"A Cowboy Who Rode the Waves\"            1372\n",
       "Phones and driving                       1168\n",
       "Name: count, dtype: int64"
      ]
     },
     "execution_count": 7,
     "metadata": {},
     "output_type": "execute_result"
    }
   ],
   "source": [
    "persuade_corpus[\"prompt_name\"].value_counts()"
   ]
  },
  {
   "cell_type": "code",
   "execution_count": 7,
   "metadata": {
    "execution": {
     "iopub.execute_input": "2024-02-12T09:39:37.468970Z",
     "iopub.status.busy": "2024-02-12T09:39:37.468214Z",
     "iopub.status.idle": "2024-02-12T09:39:46.367847Z",
     "shell.execute_reply": "2024-02-12T09:39:46.367041Z",
     "shell.execute_reply.started": "2024-02-12T09:39:37.468940Z"
    },
    "trusted": true
   },
   "outputs": [],
   "source": [
    "from transformers import AutoTokenizer, AutoModelForCausalLM\n",
    "import torch"
   ]
  },
  {
   "cell_type": "code",
   "execution_count": null,
   "metadata": {
    "trusted": true
   },
   "outputs": [],
   "source": [
    "# importing model and tokenizer\n",
    "from transformers import AutoTokenizer, AutoModelForCausalLM\n",
    "import torch\n",
    "model_path = \"/kaggle/input/mistral/pytorch/7b-instruct-v0.1-hf/1\"\n",
    "gen_tokenizer = AutoTokenizer.from_pretrained(model_path)\n",
    "gen_model = AutoModelForCausalLM.from_pretrained(\n",
    "    model_path,\n",
    "    torch_dtype = torch.bfloat16,\n",
    "    device_map = \"auto\",\n",
    "    trust_remote_code = True\n",
    ")"
   ]
  },
  {
   "cell_type": "code",
   "execution_count": null,
   "metadata": {
    "trusted": true
   },
   "outputs": [],
   "source": [
    "# function to generate an essay\n",
    "def generate(prompt):\n",
    "    # generate essays\n",
    "    messages = [{\n",
    "        \"role\" : \"user\",\n",
    "        \"content\": prompt,\n",
    "    }]\n",
    "    model_inputs = gen_tokenizer.apply_chat_template(\n",
    "        messages,\n",
    "        return_tensors = \"pt\",\n",
    "    )\n",
    "    generated_ids = gen_model.generate(model_inputs, max_new_tokens = 4000, do_sample= True)\n",
    "    essay = gen_tokenizer.batch_decode(generated_ids)[0]\n",
    "    essay = essay.split('[/INST]')[1]\n",
    "    essay = essay.replace('</s>', \"\")\n",
    "    return essay"
   ]
  },
  {
   "cell_type": "code",
   "execution_count": null,
   "metadata": {
    "_kg_hide-output": true,
    "trusted": true
   },
   "outputs": [],
   "source": [
    "# create the generated essays dataframes\n",
    "gen_df0 = pd.DataFrame({\"text\": [generate(assignements.iloc[2])], \"generated\": [1]})\n",
    "gen_df1 = pd.DataFrame({\"text\": [generate(assignements.iloc[1])], \"generated\": [1]}) \n",
    "gen_df2 = pd.DataFrame({\"text\": [generate(assignements.iloc[0])], \"generated\": [1]})\n",
    "\n",
    "# filling the dataframes with 400 generated essays\n",
    "def fill_gen_df(df, prompt):\n",
    "    for i in range(n_essays - 1):\n",
    "        new_row = pd.DataFrame({\"text\": [generate(prompt)], \"generated\": [1]})\n",
    "        df = pd.concat([df, new_row])\n",
    "    return df"
   ]
  },
  {
   "cell_type": "code",
   "execution_count": null,
   "metadata": {},
   "outputs": [],
   "source": [
    "gen_df0 = fill_gen_df(gen_df0, assignements.iloc[2])\n",
    "gen_df0.to_csv(\"gen_data_1.csv\")\n",
    "gen_df1 = fill_gen_df(gen_df1, assignements.iloc[1])\n",
    "gen_df1.to_csv(\"gen_data_2.csv\")\n",
    "gen_df2 = fill_gen_df(gen_df2, assignements.iloc[0])\n",
    "gen_df2.to_csv(\"gen_data_3.csv\")"
   ]
  },
  {
   "cell_type": "code",
   "execution_count": null,
   "metadata": {
    "execution": {
     "iopub.execute_input": "2024-02-12T09:39:55.776452Z",
     "iopub.status.busy": "2024-02-12T09:39:55.775976Z",
     "iopub.status.idle": "2024-02-12T09:39:55.852573Z",
     "shell.execute_reply": "2024-02-12T09:39:55.851791Z",
     "shell.execute_reply.started": "2024-02-12T09:39:55.776422Z"
    },
    "trusted": true
   },
   "outputs": [],
   "source": [
    "# gen_df0 = pd.read_csv(\"/kaggle/input/generated-prompt1/gen_data_1.csv\")\n",
    "# gen_df1 = pd.read_csv(\"/kaggle/input/gen-data-prompt2/gen_data_2.csv\")"
   ]
  },
  {
   "cell_type": "markdown",
   "metadata": {},
   "source": [
    "### 3- Final Dataset"
   ]
  },
  {
   "cell_type": "code",
   "execution_count": null,
   "metadata": {
    "execution": {
     "iopub.execute_input": "2024-02-12T09:39:59.649645Z",
     "iopub.status.busy": "2024-02-12T09:39:59.648770Z",
     "iopub.status.idle": "2024-02-12T09:39:59.662337Z",
     "shell.execute_reply": "2024-02-12T09:39:59.661346Z",
     "shell.execute_reply.started": "2024-02-12T09:39:59.649614Z"
    },
    "trusted": true
   },
   "outputs": [],
   "source": [
    "# concatenating datasets\n",
    "data_prompt0 = pd.concat([all_df_prompt0, gen_df0])\n",
    "data_prompt1 = pd.concat([all_df_prompt1, gen_df1])\n",
    "data_prompt2 = pd.concat([all_df_prompt2, gen_df2])"
   ]
  },
  {
   "cell_type": "code",
   "execution_count": 10,
   "metadata": {
    "execution": {
     "iopub.execute_input": "2024-02-12T09:40:05.219057Z",
     "iopub.status.busy": "2024-02-12T09:40:05.218451Z",
     "iopub.status.idle": "2024-02-12T09:40:05.226539Z",
     "shell.execute_reply": "2024-02-12T09:40:05.225515Z",
     "shell.execute_reply.started": "2024-02-12T09:40:05.219025Z"
    },
    "trusted": true
   },
   "outputs": [
    {
     "name": "stdout",
     "output_type": "stream",
     "text": [
      "Number of AI generated essays: 400\n",
      "Number of real essays: 400\n"
     ]
    }
   ],
   "source": [
    "print(f\"Number of AI generated essays: {(data_prompt1['generated']==1).sum()}\")\n",
    "print(f\"Number of real essays: {(data_prompt1['generated']==0).sum()}\")"
   ]
  },
  {
   "cell_type": "code",
   "execution_count": null,
   "metadata": {
    "trusted": true
   },
   "outputs": [],
   "source": [
    "data_prompt0.to_csv(\"data_Distance learning.csv\")\n",
    "data_prompt1.to_csv(\"data_Doestheelectoralcollegework.csv\")\n",
    "data_prompt2.to_csv(\"data_Community service.csv\")"
   ]
  },
  {
   "cell_type": "markdown",
   "metadata": {},
   "source": [
    "# II- Longformer fine-tuning"
   ]
  },
  {
   "cell_type": "markdown",
   "metadata": {},
   "source": [
    "### 1- Data Splitting"
   ]
  },
  {
   "cell_type": "code",
   "execution_count": 11,
   "metadata": {
    "execution": {
     "iopub.execute_input": "2024-02-12T09:40:11.647004Z",
     "iopub.status.busy": "2024-02-12T09:40:11.646639Z",
     "iopub.status.idle": "2024-02-12T09:40:28.238785Z",
     "shell.execute_reply": "2024-02-12T09:40:28.237845Z",
     "shell.execute_reply.started": "2024-02-12T09:40:11.646974Z"
    },
    "trusted": true
   },
   "outputs": [
    {
     "name": "stderr",
     "output_type": "stream",
     "text": [
      "/opt/conda/lib/python3.10/site-packages/scipy/__init__.py:146: UserWarning: A NumPy version >=1.16.5 and <1.23.0 is required for this version of SciPy (detected version 1.24.3\n",
      "  warnings.warn(f\"A NumPy version >={np_minversion} and <{np_maxversion}\"\n"
     ]
    }
   ],
   "source": [
    "from transformers import AutoModelForSequenceClassification, LongformerTokenizer, LongformerForSequenceClassification, Trainer, TrainingArguments\n",
    "from torch.utils.data import TensorDataset\n",
    "import torch.nn as nn\n",
    "import torch.optim as optim\n",
    "import re\n",
    "from sklearn import feature_extraction, linear_model, model_selection, metrics"
   ]
  },
  {
   "cell_type": "code",
   "execution_count": 12,
   "metadata": {
    "execution": {
     "iopub.execute_input": "2024-02-12T09:40:28.241097Z",
     "iopub.status.busy": "2024-02-12T09:40:28.240518Z",
     "iopub.status.idle": "2024-02-12T09:40:28.252137Z",
     "shell.execute_reply": "2024-02-12T09:40:28.251228Z",
     "shell.execute_reply.started": "2024-02-12T09:40:28.241070Z"
    },
    "trusted": true
   },
   "outputs": [],
   "source": [
    "# split the data into train, test and validation sets\n",
    "def splitting_data(data):\n",
    "    X_train, X_val, y_train, y_val = model_selection.train_test_split(data[\"text\"], data[\"generated\"], test_size=0.3, random_state=42)\n",
    "    return X_train,X_val, y_train, y_val\n",
    "\n",
    "X_train_prompt0, X_val_prompt0, y_train_prompt0, y_val_prompt0 = splitting_data(data_prompt0)\n",
    "X_train_prompt1, X_val_prompt1, y_train_prompt1, y_val_prompt1 = splitting_data(data_prompt1)\n",
    "#X_train_prompt2, X_val_prompt2, y_train_prompt2, y_val_prompt2 = splitting_data(data_prompt2)"
   ]
  },
  {
   "cell_type": "markdown",
   "metadata": {},
   "source": [
    "#### 2- pretrained-model and tokenizer preparing"
   ]
  },
  {
   "cell_type": "code",
   "execution_count": 13,
   "metadata": {
    "execution": {
     "iopub.execute_input": "2024-02-12T09:40:28.253740Z",
     "iopub.status.busy": "2024-02-12T09:40:28.253416Z",
     "iopub.status.idle": "2024-02-12T09:40:35.600966Z",
     "shell.execute_reply": "2024-02-12T09:40:35.600004Z",
     "shell.execute_reply.started": "2024-02-12T09:40:28.253713Z"
    },
    "trusted": true
   },
   "outputs": [],
   "source": [
    "# Define paths for each file\n",
    "input_dir_model = '/kaggle/input/longformer-model/'\n",
    "input_dir_tok = '/kaggle/input/tokenizer/'\n",
    "\n",
    "model_path = os.path.join(input_dir_model, 'model.safetensors')\n",
    "tokenizer_path = os.path.join(input_dir_tok, 'vocab.json')\n",
    "config_path = os.path.join(input_dir_model, 'config.json')\n",
    "merges_path = os.path.join(input_dir_tok, 'merges.txt')\n",
    "special_tokens_map_path = os.path.join(input_dir_tok, 'special_tokens_map.json')\n",
    "token_config_path = os.path.join(input_dir_tok, 'tokenizer_config.json')\n",
    "\n",
    "\n",
    "# Load the pretrained model and tokenizer\n",
    "model_prompt0 = LongformerForSequenceClassification.from_pretrained(input_dir_model)\n",
    "tokenizer = LongformerTokenizer(vocab_file=tokenizer_path, merges_file=merges_path, \n",
    "                                tokenizer_file=config_path, special_tokens_map_file=special_tokens_map_path,\n",
    "                                token_config_file=token_config_path)"
   ]
  },
  {
   "cell_type": "code",
   "execution_count": 14,
   "metadata": {
    "execution": {
     "iopub.execute_input": "2024-02-12T09:40:35.604191Z",
     "iopub.status.busy": "2024-02-12T09:40:35.603462Z",
     "iopub.status.idle": "2024-02-12T09:40:35.611649Z",
     "shell.execute_reply": "2024-02-12T09:40:35.610636Z",
     "shell.execute_reply.started": "2024-02-12T09:40:35.604146Z"
    },
    "trusted": true
   },
   "outputs": [],
   "source": [
    "# Freeze base model parameters\n",
    "def freeze_base_param(model):\n",
    "    for param in model.base_model.parameters():\n",
    "        param.requires_grad = False\n",
    "freeze_base_param(model_prompt0)"
   ]
  },
  {
   "cell_type": "markdown",
   "metadata": {},
   "source": [
    "#### 4- Data processing"
   ]
  },
  {
   "cell_type": "code",
   "execution_count": 15,
   "metadata": {
    "execution": {
     "iopub.execute_input": "2024-02-12T09:40:35.613619Z",
     "iopub.status.busy": "2024-02-12T09:40:35.612942Z",
     "iopub.status.idle": "2024-02-12T09:40:44.095758Z",
     "shell.execute_reply": "2024-02-12T09:40:44.094870Z",
     "shell.execute_reply.started": "2024-02-12T09:40:35.613589Z"
    },
    "trusted": true
   },
   "outputs": [
    {
     "data": {
      "text/plain": [
       "'train_data_prompt2 = tokenize_data(X_train_prompt2, y_train_prompt2)\\nval_data_prompt2 = tokenize_data(X_val_prompt2, y_val_prompt2)'"
      ]
     },
     "execution_count": 15,
     "metadata": {},
     "output_type": "execute_result"
    }
   ],
   "source": [
    "# data tokenization\n",
    "def tokenization(batched_text):\n",
    "    return tokenizer(batched_text['text'], padding = 'max_length', truncation=True, max_length = 4096)\n",
    "\n",
    "def tokenize_data(X, y):\n",
    "    text_data = X.tolist()\n",
    "    label_data = y.tolist()\n",
    "    formatted_data = [{'text': text_data[i], 'label': label_data[i]} for i in range(len(text_data))]\n",
    "    tokenized_data = list(map(tokenization, formatted_data))\n",
    "    for i in range(len(tokenized_data)):\n",
    "        tokenized_data[i][\"label\"] = label_data[i]\n",
    "    return tokenized_data\n",
    "\n",
    "train_data_prompt0 = tokenize_data(X_train_prompt0, y_train_prompt0)\n",
    "train_data_prompt1 = tokenize_data(X_train_prompt1, y_train_prompt1)\n",
    "val_data_prompt0 = tokenize_data(X_val_prompt0, y_val_prompt0)\n",
    "val_data_prompt1 = tokenize_data(X_val_prompt1, y_val_prompt1)\n",
    "\"\"\"train_data_prompt2 = tokenize_data(X_train_prompt2, y_train_prompt2)\n",
    "val_data_prompt2 = tokenize_data(X_val_prompt2, y_val_prompt2)\"\"\""
   ]
  },
  {
   "cell_type": "markdown",
   "metadata": {},
   "source": [
    "#### 5- Trainer preparing"
   ]
  },
  {
   "cell_type": "code",
   "execution_count": 16,
   "metadata": {
    "execution": {
     "iopub.execute_input": "2024-02-12T09:40:44.097163Z",
     "iopub.status.busy": "2024-02-12T09:40:44.096891Z",
     "iopub.status.idle": "2024-02-12T09:40:44.102469Z",
     "shell.execute_reply": "2024-02-12T09:40:44.101597Z",
     "shell.execute_reply.started": "2024-02-12T09:40:44.097140Z"
    },
    "trusted": true
   },
   "outputs": [],
   "source": [
    "# computing metrics during training\n",
    "from sklearn.metrics import roc_auc_score\n",
    "def compute_metrics(pred):\n",
    "    labels=pred.label_ids\n",
    "    preds= pred.predictions.argmax(-1)\n",
    "    roc_auc = roc_auc_score(preds, labels)\n",
    "    return {\"roc_auc\":roc_auc}"
   ]
  },
  {
   "cell_type": "code",
   "execution_count": 17,
   "metadata": {
    "execution": {
     "iopub.execute_input": "2024-02-12T09:40:44.103916Z",
     "iopub.status.busy": "2024-02-12T09:40:44.103540Z",
     "iopub.status.idle": "2024-02-12T09:40:44.173508Z",
     "shell.execute_reply": "2024-02-12T09:40:44.172824Z",
     "shell.execute_reply.started": "2024-02-12T09:40:44.103874Z"
    },
    "trusted": true
   },
   "outputs": [],
   "source": [
    "# training args for longformer trainer\n",
    "training_args = TrainingArguments(\n",
    "    output_dir='/kaggle/working\"',  # Output directory\n",
    "    num_train_epochs=3,\n",
    "    learning_rate=2e-3,# Number of training epochs\n",
    "    per_device_train_batch_size=10,  # Batch size per device during training\n",
    "    per_device_eval_batch_size=10,   # Batch size for evaluation\n",
    "    #warmup_steps=500,  # Number of warmup steps for learning rate scheduler\n",
    "    weight_decay=0.01,\n",
    "    fp16=True,\n",
    "    evaluation_strategy=\"epoch\",\n",
    "    logging_steps=1,# Strength of weight decay\n",
    "    report_to=\"none\",\n",
    ")"
   ]
  },
  {
   "cell_type": "code",
   "execution_count": 18,
   "metadata": {
    "execution": {
     "iopub.execute_input": "2024-02-12T09:40:44.175388Z",
     "iopub.status.busy": "2024-02-12T09:40:44.175000Z",
     "iopub.status.idle": "2024-02-12T09:40:44.188121Z",
     "shell.execute_reply": "2024-02-12T09:40:44.187147Z",
     "shell.execute_reply.started": "2024-02-12T09:40:44.175353Z"
    },
    "trusted": true
   },
   "outputs": [],
   "source": [
    "# New Trainer class inheriting from Hugging Face Trainer class to get hidden layers\n",
    "class Trainer_prompt(Trainer):\n",
    "    def compute_loss(self, model, inputs, return_outputs=False):\n",
    "        outputs = model(**inputs)\n",
    "        logits = outputs.get(\"logits\")\n",
    "        labels = inputs.get(\"labels\")\n",
    "        loss_function = nn.CrossEntropyLoss()\n",
    "        loss = loss_function(logits, labels)\n",
    "        return (loss, outputs) if return_outputs else loss\n",
    "    def get_hidden_out_proj(self, model, inputs):\n",
    "        outputs = model(**inputs,output_hidden_states= True)\n",
    "        hidden_states = outputs.hidden_states[-1][:, 0, :]  # take <s> token (equiv. to [CLS])\n",
    "        hidden_states = self.model.classifier.dropout(hidden_states)\n",
    "        hidden_states = self.model.classifier.dense(hidden_states)\n",
    "        intermediate_output = torch.tanh(hidden_states)\n",
    "        hidden_states = self.model.classifier.dropout(intermediate_output)\n",
    "        output = self.model.classifier.out_proj(hidden_states)\n",
    "        return intermediate_output, output \n",
    "    def predict_out_proj(\n",
    "        self, test_dataset, ignore_keys= None, metric_key_prefix: str = \"test\"\n",
    "    ):\n",
    "        test_dataloader = self.get_test_dataloader(test_dataset)\n",
    "        model = self._wrap_model(self.model, training=False, dataloader=test_dataloader)\n",
    "        hidden_state = None\n",
    "        for step, inputs in enumerate(test_dataloader):\n",
    "            hidden_state, output = self.get_hidden_out_proj(model, inputs)\n",
    "        return hidden_state, output\n",
    "    def predict_dense(\n",
    "        self, test_dataset, ignore_keys= None, metric_key_prefix: str = \"test\"\n",
    "    ):\n",
    "        test_dataloader = self.get_test_dataloader(test_dataset)\n",
    "        model = self._wrap_model(self.model, training=False, dataloader=test_dataloader)\n",
    "        hidden_state = None\n",
    "        for step, inputs in enumerate(test_dataloader):\n",
    "            hidden_state, output = self.get_hidden_dense(model, inputs)\n",
    "        return hidden_state, output\n",
    "    def get_hidden_dense(self, model, inputs):\n",
    "        outputs = model(**inputs,output_hidden_states= True)\n",
    "        hidden_states = outputs.hidden_states[-1][:, 0, :]  # take <s> token (equiv. to [CLS])\n",
    "        return hidden_states, outputs \n",
    "    \n",
    "        "
   ]
  },
  {
   "cell_type": "code",
   "execution_count": 19,
   "metadata": {
    "execution": {
     "iopub.execute_input": "2024-02-12T09:40:44.189561Z",
     "iopub.status.busy": "2024-02-12T09:40:44.189238Z",
     "iopub.status.idle": "2024-02-12T09:40:44.589586Z",
     "shell.execute_reply": "2024-02-12T09:40:44.588489Z",
     "shell.execute_reply.started": "2024-02-12T09:40:44.189530Z"
    },
    "trusted": true
   },
   "outputs": [
    {
     "data": {
      "text/plain": [
       "LongformerForSequenceClassification(\n",
       "  (longformer): LongformerModel(\n",
       "    (embeddings): LongformerEmbeddings(\n",
       "      (word_embeddings): Embedding(50265, 768, padding_idx=1)\n",
       "      (token_type_embeddings): Embedding(1, 768)\n",
       "      (LayerNorm): LayerNorm((768,), eps=1e-05, elementwise_affine=True)\n",
       "      (dropout): Dropout(p=0.1, inplace=False)\n",
       "      (position_embeddings): Embedding(4098, 768, padding_idx=1)\n",
       "    )\n",
       "    (encoder): LongformerEncoder(\n",
       "      (layer): ModuleList(\n",
       "        (0-11): 12 x LongformerLayer(\n",
       "          (attention): LongformerAttention(\n",
       "            (self): LongformerSelfAttention(\n",
       "              (query): Linear(in_features=768, out_features=768, bias=True)\n",
       "              (key): Linear(in_features=768, out_features=768, bias=True)\n",
       "              (value): Linear(in_features=768, out_features=768, bias=True)\n",
       "              (query_global): Linear(in_features=768, out_features=768, bias=True)\n",
       "              (key_global): Linear(in_features=768, out_features=768, bias=True)\n",
       "              (value_global): Linear(in_features=768, out_features=768, bias=True)\n",
       "            )\n",
       "            (output): LongformerSelfOutput(\n",
       "              (dense): Linear(in_features=768, out_features=768, bias=True)\n",
       "              (LayerNorm): LayerNorm((768,), eps=1e-05, elementwise_affine=True)\n",
       "              (dropout): Dropout(p=0.1, inplace=False)\n",
       "            )\n",
       "          )\n",
       "          (intermediate): LongformerIntermediate(\n",
       "            (dense): Linear(in_features=768, out_features=3072, bias=True)\n",
       "            (intermediate_act_fn): GELUActivation()\n",
       "          )\n",
       "          (output): LongformerOutput(\n",
       "            (dense): Linear(in_features=3072, out_features=768, bias=True)\n",
       "            (LayerNorm): LayerNorm((768,), eps=1e-05, elementwise_affine=True)\n",
       "            (dropout): Dropout(p=0.1, inplace=False)\n",
       "          )\n",
       "        )\n",
       "      )\n",
       "    )\n",
       "  )\n",
       "  (classifier): LongformerClassificationHead(\n",
       "    (dense): Linear(in_features=768, out_features=768, bias=True)\n",
       "    (dropout): Dropout(p=0.1, inplace=False)\n",
       "    (out_proj): Linear(in_features=768, out_features=2, bias=True)\n",
       "  )\n",
       ")"
      ]
     },
     "execution_count": 19,
     "metadata": {},
     "output_type": "execute_result"
    }
   ],
   "source": [
    "trainer_prompt0 = Trainer_prompt(\n",
    "    model_prompt0,\n",
    "    training_args,\n",
    "    train_dataset=train_data_prompt0,\n",
    "    eval_dataset=val_data_prompt0,\n",
    "    compute_metrics=compute_metrics,\n",
    ")\n",
    "device = torch.device(\"cuda\" if torch.cuda.is_available() else \"cpu\")\n",
    "model_prompt0.to(device)"
   ]
  },
  {
   "cell_type": "markdown",
   "metadata": {},
   "source": [
    "#### 6- Model Training on prompt 0"
   ]
  },
  {
   "cell_type": "code",
   "execution_count": 20,
   "metadata": {
    "execution": {
     "iopub.execute_input": "2024-02-12T09:40:44.593528Z",
     "iopub.status.busy": "2024-02-12T09:40:44.593121Z",
     "iopub.status.idle": "2024-02-12T09:50:09.510570Z",
     "shell.execute_reply": "2024-02-12T09:50:09.509672Z",
     "shell.execute_reply.started": "2024-02-12T09:40:44.593493Z"
    },
    "trusted": true
   },
   "outputs": [
    {
     "name": "stderr",
     "output_type": "stream",
     "text": [
      "/opt/conda/lib/python3.10/site-packages/torch/nn/parallel/_functions.py:68: UserWarning: Was asked to gather along dimension 0, but all input tensors were scalars; will instead unsqueeze and return a vector.\n",
      "  warnings.warn('Was asked to gather along dimension 0, but all '\n"
     ]
    },
    {
     "data": {
      "text/html": [
       "\n",
       "    <div>\n",
       "      \n",
       "      <progress value='84' max='84' style='width:300px; height:20px; vertical-align: middle;'></progress>\n",
       "      [84/84 09:17, Epoch 3/3]\n",
       "    </div>\n",
       "    <table border=\"1\" class=\"dataframe\">\n",
       "  <thead>\n",
       " <tr style=\"text-align: left;\">\n",
       "      <th>Epoch</th>\n",
       "      <th>Training Loss</th>\n",
       "      <th>Validation Loss</th>\n",
       "      <th>Roc Auc</th>\n",
       "    </tr>\n",
       "  </thead>\n",
       "  <tbody>\n",
       "    <tr>\n",
       "      <td>1</td>\n",
       "      <td>0.160100</td>\n",
       "      <td>0.097321</td>\n",
       "      <td>0.956349</td>\n",
       "    </tr>\n",
       "    <tr>\n",
       "      <td>2</td>\n",
       "      <td>0.025600</td>\n",
       "      <td>0.010793</td>\n",
       "      <td>0.995690</td>\n",
       "    </tr>\n",
       "    <tr>\n",
       "      <td>3</td>\n",
       "      <td>0.001400</td>\n",
       "      <td>0.005088</td>\n",
       "      <td>0.995690</td>\n",
       "    </tr>\n",
       "  </tbody>\n",
       "</table><p>"
      ],
      "text/plain": [
       "<IPython.core.display.HTML object>"
      ]
     },
     "metadata": {},
     "output_type": "display_data"
    },
    {
     "name": "stderr",
     "output_type": "stream",
     "text": [
      "/opt/conda/lib/python3.10/site-packages/torch/nn/parallel/_functions.py:68: UserWarning: Was asked to gather along dimension 0, but all input tensors were scalars; will instead unsqueeze and return a vector.\n",
      "  warnings.warn('Was asked to gather along dimension 0, but all '\n",
      "/opt/conda/lib/python3.10/site-packages/torch/nn/parallel/_functions.py:68: UserWarning: Was asked to gather along dimension 0, but all input tensors were scalars; will instead unsqueeze and return a vector.\n",
      "  warnings.warn('Was asked to gather along dimension 0, but all '\n"
     ]
    },
    {
     "data": {
      "text/plain": [
       "TrainOutput(global_step=84, training_loss=0.08556935819502715, metrics={'train_runtime': 564.5879, 'train_samples_per_second': 2.976, 'train_steps_per_second': 0.149, 'total_flos': 4414042830274560.0, 'train_loss': 0.08556935819502715, 'epoch': 3.0})"
      ]
     },
     "execution_count": 20,
     "metadata": {},
     "output_type": "execute_result"
    }
   ],
   "source": [
    "trainer_prompt0.train()"
   ]
  },
  {
   "cell_type": "markdown",
   "metadata": {},
   "source": [
    "#### 7- Model Testing"
   ]
  },
  {
   "cell_type": "code",
   "execution_count": 21,
   "metadata": {
    "execution": {
     "iopub.execute_input": "2024-02-12T09:50:09.512179Z",
     "iopub.status.busy": "2024-02-12T09:50:09.511790Z",
     "iopub.status.idle": "2024-02-12T09:51:56.390796Z",
     "shell.execute_reply": "2024-02-12T09:51:56.389845Z",
     "shell.execute_reply.started": "2024-02-12T09:50:09.512136Z"
    },
    "trusted": true
   },
   "outputs": [
    {
     "name": "stderr",
     "output_type": "stream",
     "text": [
      "/opt/conda/lib/python3.10/site-packages/torch/nn/parallel/_functions.py:68: UserWarning: Was asked to gather along dimension 0, but all input tensors were scalars; will instead unsqueeze and return a vector.\n",
      "  warnings.warn('Was asked to gather along dimension 0, but all '\n"
     ]
    },
    {
     "data": {
      "text/html": [],
      "text/plain": [
       "<IPython.core.display.HTML object>"
      ]
     },
     "metadata": {},
     "output_type": "display_data"
    },
    {
     "name": "stderr",
     "output_type": "stream",
     "text": [
      "/opt/conda/lib/python3.10/site-packages/torch/nn/parallel/_functions.py:68: UserWarning: Was asked to gather along dimension 0, but all input tensors were scalars; will instead unsqueeze and return a vector.\n",
      "  warnings.warn('Was asked to gather along dimension 0, but all '\n"
     ]
    },
    {
     "data": {
      "text/html": [],
      "text/plain": [
       "<IPython.core.display.HTML object>"
      ]
     },
     "metadata": {},
     "output_type": "display_data"
    }
   ],
   "source": [
    "# preparing test data\n",
    "test_data = val_data_prompt0 + val_data_prompt1\n",
    "\n",
    "# getting test predictions\n",
    "predictions_prompt1 = trainer_prompt0.predict(val_data_prompt1)\n",
    "predictions_prompt0 = trainer_prompt0.predict(val_data_prompt0)\n",
    "predictions = list(predictions_prompt0.predictions) + list(predictions_prompt1.predictions)"
   ]
  },
  {
   "cell_type": "code",
   "execution_count": 22,
   "metadata": {
    "execution": {
     "iopub.execute_input": "2024-02-12T09:51:56.392464Z",
     "iopub.status.busy": "2024-02-12T09:51:56.392088Z",
     "iopub.status.idle": "2024-02-12T09:51:56.409293Z",
     "shell.execute_reply": "2024-02-12T09:51:56.408255Z",
     "shell.execute_reply.started": "2024-02-12T09:51:56.392428Z"
    },
    "trusted": true
   },
   "outputs": [
    {
     "name": "stdout",
     "output_type": "stream",
     "text": [
      "roc_auc on both prompt0 and prompt1 validations data: 0.9780059674408054\n",
      "roc_auc on prompt0 validation data: 0.9956896551724138\n",
      "roc_auc on prompt1 validation data: 0.9614925163375727\n"
     ]
    }
   ],
   "source": [
    "# testing the model and displaying roc-auc scores\n",
    "def testing_results(predictions, test_data):\n",
    "    preds= predictions.argmax(-1)\n",
    "    labels = []\n",
    "    for i in range(len(test_data)):\n",
    "        labels.append(test_data[i][\"label\"])\n",
    "    roc_auc = roc_auc_score(preds, labels)\n",
    "    return roc_auc\n",
    "\n",
    "print(f\"roc_auc on both prompt0 and prompt1 validations data: {testing_results(np.array(predictions), test_data)}\")\n",
    "print(f\"roc_auc on prompt0 validation data: {testing_results(predictions_prompt0.predictions, val_data_prompt0)}\")\n",
    "print(f\"roc_auc on prompt1 validation data: {testing_results(predictions_prompt1.predictions, val_data_prompt1)}\")"
   ]
  },
  {
   "cell_type": "code",
   "execution_count": 23,
   "metadata": {
    "execution": {
     "iopub.execute_input": "2024-02-12T09:51:56.410788Z",
     "iopub.status.busy": "2024-02-12T09:51:56.410477Z",
     "iopub.status.idle": "2024-02-12T09:51:56.441087Z",
     "shell.execute_reply": "2024-02-12T09:51:56.440239Z",
     "shell.execute_reply.started": "2024-02-12T09:51:56.410762Z"
    },
    "trusted": true
   },
   "outputs": [
    {
     "data": {
      "text/html": [
       "<div>\n",
       "<style scoped>\n",
       "    .dataframe tbody tr th:only-of-type {\n",
       "        vertical-align: middle;\n",
       "    }\n",
       "\n",
       "    .dataframe tbody tr th {\n",
       "        vertical-align: top;\n",
       "    }\n",
       "\n",
       "    .dataframe thead th {\n",
       "        text-align: right;\n",
       "    }\n",
       "</style>\n",
       "<table border=\"1\" class=\"dataframe\">\n",
       "  <thead>\n",
       "    <tr style=\"text-align: right;\">\n",
       "      <th></th>\n",
       "      <th>prompt</th>\n",
       "      <th>num bad predictions generated</th>\n",
       "      <th>num bad predictions non_generated</th>\n",
       "    </tr>\n",
       "  </thead>\n",
       "  <tbody>\n",
       "    <tr>\n",
       "      <th>0</th>\n",
       "      <td>prompt0</td>\n",
       "      <td>0</td>\n",
       "      <td>1</td>\n",
       "    </tr>\n",
       "    <tr>\n",
       "      <th>1</th>\n",
       "      <td>prompt1</td>\n",
       "      <td>9</td>\n",
       "      <td>1</td>\n",
       "    </tr>\n",
       "  </tbody>\n",
       "</table>\n",
       "</div>"
      ],
      "text/plain": [
       "    prompt  num bad predictions generated  num bad predictions non_generated\n",
       "0  prompt0                              0                                  1\n",
       "1  prompt1                              9                                  1"
      ]
     },
     "execution_count": 23,
     "metadata": {},
     "output_type": "execute_result"
    }
   ],
   "source": [
    "# analysing bad predictions\n",
    "def get_bad_pred_number(predictions, test_data):\n",
    "    preds= predictions.argmax(-1)\n",
    "    labels = []\n",
    "    for i in range(len(test_data)):\n",
    "        labels.append(test_data[i][\"label\"])\n",
    "    num_gen = np.sum((preds != labels) & (preds == 0))\n",
    "    num_non_gen = np.sum((preds != labels) & (preds == 1))\n",
    "    return num_gen, num_non_gen\n",
    "\n",
    "bad_preds_df = pd.DataFrame({\n",
    "    \"prompt\": [\"prompt0\", \"prompt1\"],\n",
    "    \"num bad predictions generated\": [\n",
    "        get_bad_pred_number(predictions_prompt0.predictions, val_data_prompt0)[0],\n",
    "        get_bad_pred_number(predictions_prompt1.predictions, val_data_prompt1)[0]\n",
    "    ],\n",
    "    \"num bad predictions non_generated\": [\n",
    "        get_bad_pred_number(predictions_prompt0.predictions, val_data_prompt0)[1],\n",
    "        get_bad_pred_number(predictions_prompt1.predictions, val_data_prompt1)[1]\n",
    "    ]\n",
    "})\n",
    "bad_preds_df"
   ]
  },
  {
   "cell_type": "markdown",
   "metadata": {},
   "source": [
    "# III- Studying Logits difference"
   ]
  },
  {
   "cell_type": "markdown",
   "metadata": {},
   "source": [
    "In this section we will compare the logits difference between predictions made on data from  prompt0 and data from other prompts using histograms. In fact logits difference gives good indications about model's confidence, so we want here to study and compare the confidence of the model on prompts it was trained on with unseen prompts.   "
   ]
  },
  {
   "cell_type": "code",
   "execution_count": 24,
   "metadata": {
    "execution": {
     "iopub.execute_input": "2024-02-12T09:51:56.445040Z",
     "iopub.status.busy": "2024-02-12T09:51:56.444716Z",
     "iopub.status.idle": "2024-02-12T09:51:56.450386Z",
     "shell.execute_reply": "2024-02-12T09:51:56.449419Z",
     "shell.execute_reply.started": "2024-02-12T09:51:56.445014Z"
    },
    "trusted": true
   },
   "outputs": [],
   "source": [
    "# plotting the histogram in regard to the class of the prediction\n",
    "def diff_logits_class(predictions, generated):\n",
    "    preds= predictions.predictions.argmax(-1)\n",
    "    indices = np.where(preds == generated)[0]\n",
    "    class_preds = predictions.predictions[indices]\n",
    "    logits_difference = class_preds[:, 0] - class_preds[:, 1]\n",
    "    return logits_difference"
   ]
  },
  {
   "cell_type": "markdown",
   "metadata": {},
   "source": [
    "#### 1- prompt0 vs prompt1"
   ]
  },
  {
   "cell_type": "code",
   "execution_count": 25,
   "metadata": {
    "execution": {
     "iopub.execute_input": "2024-02-12T09:51:56.451691Z",
     "iopub.status.busy": "2024-02-12T09:51:56.451457Z",
     "iopub.status.idle": "2024-02-12T09:53:43.206145Z",
     "shell.execute_reply": "2024-02-12T09:53:43.205121Z",
     "shell.execute_reply.started": "2024-02-12T09:51:56.451670Z"
    },
    "trusted": true
   },
   "outputs": [
    {
     "name": "stderr",
     "output_type": "stream",
     "text": [
      "/opt/conda/lib/python3.10/site-packages/torch/nn/parallel/_functions.py:68: UserWarning: Was asked to gather along dimension 0, but all input tensors were scalars; will instead unsqueeze and return a vector.\n",
      "  warnings.warn('Was asked to gather along dimension 0, but all '\n"
     ]
    },
    {
     "data": {
      "text/html": [],
      "text/plain": [
       "<IPython.core.display.HTML object>"
      ]
     },
     "metadata": {},
     "output_type": "display_data"
    },
    {
     "name": "stderr",
     "output_type": "stream",
     "text": [
      "/opt/conda/lib/python3.10/site-packages/torch/nn/parallel/_functions.py:68: UserWarning: Was asked to gather along dimension 0, but all input tensors were scalars; will instead unsqueeze and return a vector.\n",
      "  warnings.warn('Was asked to gather along dimension 0, but all '\n"
     ]
    },
    {
     "data": {
      "text/html": [],
      "text/plain": [
       "<IPython.core.display.HTML object>"
      ]
     },
     "metadata": {},
     "output_type": "display_data"
    }
   ],
   "source": [
    "predictions_prompt1 = trainer_prompt0.predict(val_data_prompt1)\n",
    "predictions_prompt0 = trainer_prompt0.predict(val_data_prompt0)"
   ]
  },
  {
   "cell_type": "code",
   "execution_count": 26,
   "metadata": {
    "execution": {
     "iopub.execute_input": "2024-02-12T09:53:43.208191Z",
     "iopub.status.busy": "2024-02-12T09:53:43.207753Z",
     "iopub.status.idle": "2024-02-12T09:53:44.372935Z",
     "shell.execute_reply": "2024-02-12T09:53:44.372012Z",
     "shell.execute_reply.started": "2024-02-12T09:53:43.208154Z"
    },
    "trusted": true
   },
   "outputs": [
    {
     "data": {
      "text/plain": [
       "Text(0.5, 1.0, 'prompt1 model histogram for AI generated predictions')"
      ]
     },
     "execution_count": 26,
     "metadata": {},
     "output_type": "execute_result"
    },
    {
     "data": {
      "image/png": "[encoded data removed]",
      "text/plain": [
       "<Figure size 1500x1000 with 4 Axes>"
      ]
     },
     "metadata": {},
     "output_type": "display_data"
    }
   ],
   "source": [
    "import matplotlib.pyplot as plt\n",
    "fig, axs = plt.subplots(2, 2, figsize=(15, 10))\n",
    "\n",
    "# Plotting histograms\n",
    "axs[0][0].hist(diff_logits_class(predictions_prompt0, 0))\n",
    "axs[0][0].set_title(\"prompt0 model histogram for non AI generated predictions\")\n",
    "\n",
    "axs[0][1].hist(diff_logits_class(predictions_prompt0, 1))\n",
    "axs[0][1].set_title(\"prompt0 model histogram for AI generated predictions\")\n",
    "\n",
    "axs[1][0].hist(diff_logits_class(predictions_prompt1, 0))\n",
    "axs[1][0].set_title(\"prompt1 model histogram for non AI generated predictions\")\n",
    "\n",
    "axs[1][1].hist(diff_logits_class(predictions_prompt1, 1))\n",
    "axs[1][1].set_title(\"prompt1 model histogram for AI generated predictions\")"
   ]
  },
  {
   "cell_type": "markdown",
   "metadata": {},
   "source": [
    "# IV- Hidden Layers comparision"
   ]
  },
  {
   "cell_type": "markdown",
   "metadata": {},
   "source": [
    "In this section, we try to see if semantic related features are well separated from other features in the last layer of our model. In order to do this, we will study the activation of the penultimate layer of the model on texts from prompt0  and compare it to unseen prompts: We will see if there are some specific activations of the penultimate layer which are more sensible to semantic differences between different prompts."
   ]
  },
  {
   "cell_type": "markdown",
   "metadata": {},
   "source": [
    "#### 1- Data preparation"
   ]
  },
  {
   "cell_type": "code",
   "execution_count": 27,
   "metadata": {
    "execution": {
     "iopub.execute_input": "2024-02-12T09:53:44.374437Z",
     "iopub.status.busy": "2024-02-12T09:53:44.374146Z",
     "iopub.status.idle": "2024-02-12T09:53:44.379894Z",
     "shell.execute_reply": "2024-02-12T09:53:44.379034Z",
     "shell.execute_reply.started": "2024-02-12T09:53:44.374411Z"
    },
    "trusted": true
   },
   "outputs": [],
   "source": [
    "# validation propmpt0 sample\n",
    "gen_val_data_prompt0 = [sample for sample in val_data_prompt0 if sample[\"label\"] == 1]\n",
    "non_gen_val_data_prompt0 = [sample for sample in val_data_prompt0 if sample[\"label\"] == 0]\n",
    "gen_val_sample = gen_val_data_prompt0[0]\n",
    "non_gen_val_sample = non_gen_val_data_prompt0[0]"
   ]
  },
  {
   "cell_type": "code",
   "execution_count": null,
   "metadata": {
    "trusted": true
   },
   "outputs": [],
   "source": [
    "# validation propmpt0 sample\n",
    "gen_val_data_prompt2 = [sample for sample in val_data_prompt2 if sample[\"label\"] == 1]\n",
    "non_gen_val_data_prompt2 = [sample for sample in val_data_prompt2 if sample[\"label\"] == 0]"
   ]
  },
  {
   "cell_type": "code",
   "execution_count": 28,
   "metadata": {
    "execution": {
     "iopub.execute_input": "2024-02-12T09:53:44.381376Z",
     "iopub.status.busy": "2024-02-12T09:53:44.381026Z",
     "iopub.status.idle": "2024-02-12T09:53:44.398163Z",
     "shell.execute_reply": "2024-02-12T09:53:44.397117Z",
     "shell.execute_reply.started": "2024-02-12T09:53:44.381340Z"
    },
    "trusted": true
   },
   "outputs": [],
   "source": [
    "# validation propmpt1 sample\n",
    "gen_val_data_prompt1 = [sample for sample in val_data_prompt1 if sample[\"label\"] == 1]\n",
    "non_gen_val_data_prompt1 = [sample for sample in val_data_prompt1 if sample[\"label\"] == 0]\n",
    "gen_val_sample_prompt1 = gen_val_data_prompt1[0]\n",
    "non_gen_val_sample_prompt1 = non_gen_val_data_prompt1[0]"
   ]
  },
  {
   "cell_type": "markdown",
   "metadata": {},
   "source": [
    "#### 2_ Method 1: Pnultimate layer activations sign comparision"
   ]
  },
  {
   "cell_type": "markdown",
   "metadata": {},
   "source": [
    "Our first method is to study the difference in sign of penultimate layer activations between predictions on prompt0 and predictions on model's unseen prompts."
   ]
  },
  {
   "cell_type": "code",
   "execution_count": 29,
   "metadata": {
    "execution": {
     "iopub.execute_input": "2024-02-12T09:53:44.399574Z",
     "iopub.status.busy": "2024-02-12T09:53:44.399305Z",
     "iopub.status.idle": "2024-02-12T09:53:44.410825Z",
     "shell.execute_reply": "2024-02-12T09:53:44.409816Z",
     "shell.execute_reply.started": "2024-02-12T09:53:44.399551Z"
    },
    "trusted": true
   },
   "outputs": [],
   "source": [
    "def outputs_comparision(model, sample1, sample2):\n",
    "    # testing the model on the two texts\n",
    "    hidden_state1, output1 = model.predict_out_proj([sample1])\n",
    "    hidden_state2, output2 = model.predict_out_proj([sample2])\n",
    "    return hidden_state1, output1, hidden_state2, output2"
   ]
  },
  {
   "cell_type": "code",
   "execution_count": 30,
   "metadata": {
    "execution": {
     "iopub.execute_input": "2024-02-12T09:53:44.413030Z",
     "iopub.status.busy": "2024-02-12T09:53:44.411937Z",
     "iopub.status.idle": "2024-02-12T09:53:44.424559Z",
     "shell.execute_reply": "2024-02-12T09:53:44.423651Z",
     "shell.execute_reply.started": "2024-02-12T09:53:44.413005Z"
    },
    "trusted": true
   },
   "outputs": [],
   "source": [
    "# inputs of opposite sign\n",
    "def get_opposite_outputs(dense_output1, dense_output2):\n",
    "    dense_output1 = dense_output1.flatten().cpu().detach().numpy()\n",
    "    dense_output2 = dense_output2.flatten().cpu().detach().numpy()\n",
    "    indexes = np.where(np.sign(dense_output1) != np.sign(dense_output2))[0]\n",
    "    return indexes"
   ]
  },
  {
   "cell_type": "code",
   "execution_count": 31,
   "metadata": {
    "execution": {
     "iopub.execute_input": "2024-02-12T09:53:44.425975Z",
     "iopub.status.busy": "2024-02-12T09:53:44.425573Z",
     "iopub.status.idle": "2024-02-12T09:53:44.437702Z",
     "shell.execute_reply": "2024-02-12T09:53:44.436832Z",
     "shell.execute_reply.started": "2024-02-12T09:53:44.425942Z"
    },
    "trusted": true
   },
   "outputs": [],
   "source": [
    "# get the prediction\n",
    "def max_logits(pred):\n",
    "    return pred.argmax(-1).item()"
   ]
  },
  {
   "cell_type": "code",
   "execution_count": 32,
   "metadata": {
    "execution": {
     "iopub.execute_input": "2024-02-12T09:53:44.439037Z",
     "iopub.status.busy": "2024-02-12T09:53:44.438732Z",
     "iopub.status.idle": "2024-02-12T09:53:44.451670Z",
     "shell.execute_reply": "2024-02-12T09:53:44.450984Z",
     "shell.execute_reply.started": "2024-02-12T09:53:44.439000Z"
    },
    "trusted": true
   },
   "outputs": [],
   "source": [
    "import random\n",
    "from itertools import product\n",
    "# getting intersection of indexes\n",
    "def intersection_datas(model, data1, data2, opposite=True):\n",
    "    data1 = random.sample(data1, k=1)\n",
    "    data2 = random.sample(data2, k=1)\n",
    "    intersection = np.arange(769)\n",
    "    all_pairs = list(product(data1, data2))\n",
    "    for sample1, sample2 in all_pairs:\n",
    "        hidden_state1, output1, hidden_state2, output2 = outputs_comparision(model, sample1, sample2)\n",
    "        if opposite:\n",
    "            indexes = get_opposite_outputs(hidden_state1, hidden_state2)\n",
    "        else:\n",
    "            indexes = get_equal_sign_outputs(hidden_state1, hidden_state2)\n",
    "        if max_logits(output1) == sample1[\"label\"] and max_logits(output2) == sample2[\"label\"]:\n",
    "            intersection = np.intersect1d(intersection, indexes)\n",
    "    return intersection\n",
    "        "
   ]
  },
  {
   "cell_type": "code",
   "execution_count": 33,
   "metadata": {
    "execution": {
     "iopub.execute_input": "2024-02-12T09:53:44.452969Z",
     "iopub.status.busy": "2024-02-12T09:53:44.452695Z",
     "iopub.status.idle": "2024-02-12T09:53:44.473145Z",
     "shell.execute_reply": "2024-02-12T09:53:44.472366Z",
     "shell.execute_reply.started": "2024-02-12T09:53:44.452946Z"
    },
    "trusted": true
   },
   "outputs": [],
   "source": [
    "import matplotlib.pyplot as plt\n",
    "def count_sensible_neurons(model, data1, data2, opposite=True):\n",
    "    intersections=[]\n",
    "    for i in range(1000):\n",
    "        one_intersection = intersection_datas(model, data1, data2)\n",
    "        intersections.append(one_intersection)\n",
    "    # Create a dictionary to store counts of each number\n",
    "    number_counts = {}\n",
    "\n",
    "    # Count occurrences of each number across arrays\n",
    "    for intersection in intersections:\n",
    "        for num in intersection:\n",
    "            if num not in number_counts:\n",
    "                number_counts[num] = 1\n",
    "            else:\n",
    "                number_counts[num] += 1\n",
    "\n",
    "    # Create lists for x-axis (numbers) and y-axis (counts)\n",
    "    numbers = np.arange(1, 769)\n",
    "    counts = [number_counts.get(num, 0) for num in numbers]  # Get counts or default to 0 if number not found\n",
    "\n",
    "    # Create a bar plot\n",
    "    plt.bar(numbers, counts)\n",
    "    plt.xlabel('Activations position')\n",
    "    plt.ylabel('Count of opposite activations')\n",
    "    plt.title('Count of activations opposite signs between pairs of prompt0 and prompt1 predictions')\n",
    "    plt.show()\n",
    "    return number_counts"
   ]
  },
  {
   "cell_type": "code",
   "execution_count": 34,
   "metadata": {
    "execution": {
     "iopub.execute_input": "2024-02-12T09:53:44.474358Z",
     "iopub.status.busy": "2024-02-12T09:53:44.474106Z",
     "iopub.status.idle": "2024-02-12T10:07:47.742948Z",
     "shell.execute_reply": "2024-02-12T10:07:47.741949Z",
     "shell.execute_reply.started": "2024-02-12T09:53:44.474336Z"
    },
    "trusted": true
   },
   "outputs": [
    {
     "name": "stderr",
     "output_type": "stream",
     "text": [
      "/opt/conda/lib/python3.10/site-packages/torch/nn/parallel/_functions.py:68: UserWarning: Was asked to gather along dimension 0, but all input tensors were scalars; will instead unsqueeze and return a vector.\n",
      "  warnings.warn('Was asked to gather along dimension 0, but all '\n"
     ]
    },
    {
     "data": {
      "image/png": "[encoded data removed]",
      "text/plain": [
       "<Figure size 640x480 with 1 Axes>"
      ]
     },
     "metadata": {},
     "output_type": "display_data"
    }
   ],
   "source": [
    "counts_per_neuron_out_proj = count_sensible_neurons(trainer_prompt0, gen_val_data_prompt1, gen_val_data_prompt0)"
   ]
  },
  {
   "cell_type": "code",
   "execution_count": 35,
   "metadata": {
    "execution": {
     "iopub.execute_input": "2024-02-12T10:07:47.747950Z",
     "iopub.status.busy": "2024-02-12T10:07:47.747601Z",
     "iopub.status.idle": "2024-02-12T10:07:47.753010Z",
     "shell.execute_reply": "2024-02-12T10:07:47.752089Z",
     "shell.execute_reply.started": "2024-02-12T10:07:47.747923Z"
    },
    "trusted": true
   },
   "outputs": [],
   "source": [
    "# selecting the most sensible activations to semantic features\n",
    "treshold = 190\n",
    "sensible_out_proj_activations = [neuron for neuron in counts_per_neuron_out_proj.keys() if counts_per_neuron_out_proj[neuron]>treshold]"
   ]
  },
  {
   "cell_type": "code",
   "execution_count": 36,
   "metadata": {
    "execution": {
     "iopub.execute_input": "2024-02-12T10:07:47.754323Z",
     "iopub.status.busy": "2024-02-12T10:07:47.754044Z",
     "iopub.status.idle": "2024-02-12T10:07:47.779867Z",
     "shell.execute_reply": "2024-02-12T10:07:47.778956Z",
     "shell.execute_reply.started": "2024-02-12T10:07:47.754299Z"
    },
    "trusted": true
   },
   "outputs": [
    {
     "data": {
      "text/plain": [
       "241"
      ]
     },
     "execution_count": 36,
     "metadata": {},
     "output_type": "execute_result"
    }
   ],
   "source": [
    "len(sensible_out_proj_activations)"
   ]
  },
  {
   "cell_type": "markdown",
   "metadata": {},
   "source": [
    "#### 3- Method 2: Statistical Test for last activations distributions"
   ]
  },
  {
   "cell_type": "markdown",
   "metadata": {},
   "source": [
    "In this section we will use the KS-Test to compare the distribution of prompt0 predictions last activations with the distribution of unseen prompts predictions last activations."
   ]
  },
  {
   "cell_type": "code",
   "execution_count": null,
   "metadata": {
    "trusted": true
   },
   "outputs": [],
   "source": [
    "from scipy.stats import ks_2samp\n",
    "\n",
    "def get_hidden_states_prompts(trainer, data1, data2):\n",
    "    hidden_states1 = []\n",
    "    hidden_states2=[]\n",
    "    for sample in data1:\n",
    "        hidden_state1, _ = trainer.predict_out_proj([sample])\n",
    "        hidden_states1.append(hidden_state1.flatten().cpu().detach().numpy())\n",
    "    for sample in data2:\n",
    "        hidden_state2, _ = trainer.predict_out_proj([sample])\n",
    "        hidden_states2.append(hidden_state2.flatten().cpu().detach().numpy())\n",
    "    return hidden_states1, hidden_states2\n",
    "\n",
    "def KS_test(trainer, data1, data2):\n",
    "    hidden_states1, hidden_states2 = get_hidden_states_prompts(trainer, data1, data2)\n",
    "    ks_p_values = [ks_2samp(np.array(hidden_states1)[:,i], np.array(hidden_states2)[:,i])[1] for i in range(len(hidden_states1[0]))]\n",
    "    return ks_p_values\n",
    "    "
   ]
  },
  {
   "cell_type": "code",
   "execution_count": null,
   "metadata": {
    "trusted": true
   },
   "outputs": [],
   "source": [
    "ks_p_values = KS_test(trainer_prompt0, gen_val_data_prompt1, gen_val_data_prompt0)"
   ]
  },
  {
   "cell_type": "code",
   "execution_count": null,
   "metadata": {
    "trusted": true
   },
   "outputs": [],
   "source": [
    "sensible_out_proj_activations_kstest = [neuron for neuron in range(len(ks_p_values)) if ks_p_values[neuron]<0.05]"
   ]
  },
  {
   "cell_type": "code",
   "execution_count": null,
   "metadata": {
    "trusted": true
   },
   "outputs": [],
   "source": [
    "len(sensible_out_proj_activations_kstest)"
   ]
  },
  {
   "cell_type": "markdown",
   "metadata": {},
   "source": [
    "#### 4- Commonality between the two methods"
   ]
  },
  {
   "cell_type": "code",
   "execution_count": null,
   "metadata": {
    "trusted": true
   },
   "outputs": [],
   "source": [
    "common_elements = set(sensible_out_proj_activations_kstest) & set(sensible_out_proj_activations)\n",
    "num_common_elements = len(common_elements)"
   ]
  },
  {
   "cell_type": "code",
   "execution_count": null,
   "metadata": {
    "trusted": true
   },
   "outputs": [],
   "source": [
    "list(common_elements)"
   ]
  },
  {
   "cell_type": "code",
   "execution_count": null,
   "metadata": {
    "trusted": true
   },
   "outputs": [],
   "source": [
    "num_common_elements"
   ]
  },
  {
   "cell_type": "markdown",
   "metadata": {},
   "source": [
    "# Ignoring semantic features using weight decay "
   ]
  },
  {
   "cell_type": "code",
   "execution_count": 42,
   "metadata": {
    "execution": {
     "iopub.execute_input": "2024-02-12T10:09:34.750570Z",
     "iopub.status.busy": "2024-02-12T10:09:34.750181Z",
     "iopub.status.idle": "2024-02-12T10:09:34.764485Z",
     "shell.execute_reply": "2024-02-12T10:09:34.763469Z",
     "shell.execute_reply.started": "2024-02-12T10:09:34.750539Z"
    },
    "trusted": true
   },
   "outputs": [],
   "source": [
    "class Regularized_Trainer_prompt(Trainer):\n",
    "    def compute_loss(self, model, inputs, return_outputs=False):\n",
    "        outputs = model(**inputs)\n",
    "        logits = outputs.get(\"logits\")\n",
    "        labels = inputs.get(\"labels\")\n",
    "        loss_function = nn.CrossEntropyLoss()\n",
    "        loss = loss_function(logits, labels)\n",
    "        \n",
    "        # Adding weight decay to specific indices\n",
    "        weight_decay = 0.1  # Example weight decay factor\n",
    "        for name, param in self.model.classifier.out_proj.named_parameters():\n",
    "            if name == 'weight':\n",
    "                loss += torch.sum(torch.abs(param[:, sensible_out_proj_activations]) * weight_decay)\n",
    "        return (loss, outputs) if return_outputs else loss\n",
    "    def get_hidden_out_proj(self, model, inputs):\n",
    "        outputs = model(**inputs,output_hidden_states= True)\n",
    "        hidden_states = outputs.hidden_states[-1][:, 0, :]  # take <s> token (equiv. to [CLS])\n",
    "        hidden_states = self.model.classifier.dropout(hidden_states)\n",
    "        hidden_states = self.model.classifier.dense(hidden_states)\n",
    "        intermediate_output = torch.tanh(hidden_states)\n",
    "        hidden_states = self.model.classifier.dropout(intermediate_output)\n",
    "        output = self.model.classifier.out_proj(hidden_states)\n",
    "        return intermediate_output, output \n",
    "    def predict_out_proj(\n",
    "        self, test_dataset, ignore_keys= None, metric_key_prefix: str = \"test\"\n",
    "    ):\n",
    "        test_dataloader = self.get_test_dataloader(test_dataset)\n",
    "        model = self._wrap_model(self.model, training=False, dataloader=test_dataloader)\n",
    "        hidden_state = None\n",
    "        for step, inputs in enumerate(test_dataloader):\n",
    "            hidden_state, output = self.get_hidden_out_proj(model, inputs)\n",
    "        return hidden_state, output\n",
    "    def predict_dense(\n",
    "        self, test_dataset, ignore_keys= None, metric_key_prefix: str = \"test\"\n",
    "    ):\n",
    "        test_dataloader = self.get_test_dataloader(test_dataset)\n",
    "        model = self._wrap_model(self.model, training=False, dataloader=test_dataloader)\n",
    "        hidden_state = None\n",
    "        for step, inputs in enumerate(test_dataloader):\n",
    "            hidden_state, output = self.get_hidden_dense(model, inputs)\n",
    "        return hidden_state, output\n",
    "    def get_hidden_dense(self, model, inputs):\n",
    "        outputs = model(**inputs,output_hidden_states= True)\n",
    "        hidden_states = outputs.hidden_states[-1][:, 0, :]  # take <s> token (equiv. to [CLS])\n",
    "        return hidden_states, outputs "
   ]
  },
  {
   "cell_type": "code",
   "execution_count": 43,
   "metadata": {
    "execution": {
     "iopub.execute_input": "2024-02-12T10:09:38.222620Z",
     "iopub.status.busy": "2024-02-12T10:09:38.221691Z",
     "iopub.status.idle": "2024-02-12T10:09:38.228220Z",
     "shell.execute_reply": "2024-02-12T10:09:38.227083Z",
     "shell.execute_reply.started": "2024-02-12T10:09:38.222577Z"
    },
    "trusted": true
   },
   "outputs": [],
   "source": [
    "# freezing first dense layer of classifier head\n",
    "for param in model_prompt0.classifier.dense.parameters():\n",
    "    param.requires_grad = False"
   ]
  },
  {
   "cell_type": "code",
   "execution_count": 44,
   "metadata": {
    "execution": {
     "iopub.execute_input": "2024-02-12T10:09:39.634445Z",
     "iopub.status.busy": "2024-02-12T10:09:39.633832Z",
     "iopub.status.idle": "2024-02-12T10:09:40.066644Z",
     "shell.execute_reply": "2024-02-12T10:09:40.065752Z",
     "shell.execute_reply.started": "2024-02-12T10:09:39.634413Z"
    },
    "trusted": true
   },
   "outputs": [],
   "source": [
    "import gc         # garbage collect library\n",
    "gc.collect()\n",
    "torch.cuda.empty_cache() "
   ]
  },
  {
   "cell_type": "code",
   "execution_count": 45,
   "metadata": {
    "execution": {
     "iopub.execute_input": "2024-02-12T10:09:40.989207Z",
     "iopub.status.busy": "2024-02-12T10:09:40.988839Z",
     "iopub.status.idle": "2024-02-12T10:09:41.000009Z",
     "shell.execute_reply": "2024-02-12T10:09:40.999144Z",
     "shell.execute_reply.started": "2024-02-12T10:09:40.989172Z"
    },
    "trusted": true
   },
   "outputs": [],
   "source": [
    "regularized_trainer_prompt0 = Regularized_Trainer_prompt(\n",
    "    model_prompt0,\n",
    "    training_args,\n",
    "    train_dataset=train_data_prompt0,\n",
    "    eval_dataset=val_data_prompt0,\n",
    "    compute_metrics=compute_metrics,\n",
    ")"
   ]
  },
  {
   "cell_type": "code",
   "execution_count": 46,
   "metadata": {
    "execution": {
     "iopub.execute_input": "2024-02-12T10:09:43.135465Z",
     "iopub.status.busy": "2024-02-12T10:09:43.135116Z",
     "iopub.status.idle": "2024-02-12T10:19:08.844666Z",
     "shell.execute_reply": "2024-02-12T10:19:08.843596Z",
     "shell.execute_reply.started": "2024-02-12T10:09:43.135436Z"
    },
    "trusted": true
   },
   "outputs": [
    {
     "data": {
      "text/html": [
       "\n",
       "    <div>\n",
       "      \n",
       "      <progress value='84' max='84' style='width:300px; height:20px; vertical-align: middle;'></progress>\n",
       "      [84/84 09:20, Epoch 3/3]\n",
       "    </div>\n",
       "    <table border=\"1\" class=\"dataframe\">\n",
       "  <thead>\n",
       " <tr style=\"text-align: left;\">\n",
       "      <th>Epoch</th>\n",
       "      <th>Training Loss</th>\n",
       "      <th>Validation Loss</th>\n",
       "      <th>Roc Auc</th>\n",
       "    </tr>\n",
       "  </thead>\n",
       "  <tbody>\n",
       "    <tr>\n",
       "      <td>1</td>\n",
       "      <td>0.366600</td>\n",
       "      <td>0.317618</td>\n",
       "      <td>0.995690</td>\n",
       "    </tr>\n",
       "    <tr>\n",
       "      <td>2</td>\n",
       "      <td>0.048300</td>\n",
       "      <td>0.049951</td>\n",
       "      <td>0.995690</td>\n",
       "    </tr>\n",
       "    <tr>\n",
       "      <td>3</td>\n",
       "      <td>0.012400</td>\n",
       "      <td>0.016787</td>\n",
       "      <td>0.995690</td>\n",
       "    </tr>\n",
       "  </tbody>\n",
       "</table><p>"
      ],
      "text/plain": [
       "<IPython.core.display.HTML object>"
      ]
     },
     "metadata": {},
     "output_type": "display_data"
    },
    {
     "name": "stderr",
     "output_type": "stream",
     "text": [
      "/opt/conda/lib/python3.10/site-packages/torch/nn/parallel/_functions.py:68: UserWarning: Was asked to gather along dimension 0, but all input tensors were scalars; will instead unsqueeze and return a vector.\n",
      "  warnings.warn('Was asked to gather along dimension 0, but all '\n",
      "/opt/conda/lib/python3.10/site-packages/torch/nn/parallel/_functions.py:68: UserWarning: Was asked to gather along dimension 0, but all input tensors were scalars; will instead unsqueeze and return a vector.\n",
      "  warnings.warn('Was asked to gather along dimension 0, but all '\n"
     ]
    },
    {
     "data": {
      "text/plain": [
       "TrainOutput(global_step=84, training_loss=0.3735265601426363, metrics={'train_runtime': 565.3491, 'train_samples_per_second': 2.972, 'train_steps_per_second': 0.149, 'total_flos': 4414042830274560.0, 'train_loss': 0.3735265601426363, 'epoch': 3.0})"
      ]
     },
     "execution_count": 46,
     "metadata": {},
     "output_type": "execute_result"
    }
   ],
   "source": [
    "regularized_trainer_prompt0.train()"
   ]
  },
  {
   "cell_type": "markdown",
   "metadata": {},
   "source": [
    "# Regularized Model difference of logits study"
   ]
  },
  {
   "cell_type": "code",
   "execution_count": 47,
   "metadata": {
    "execution": {
     "iopub.execute_input": "2024-02-12T10:19:08.846981Z",
     "iopub.status.busy": "2024-02-12T10:19:08.846608Z",
     "iopub.status.idle": "2024-02-12T10:20:55.720567Z",
     "shell.execute_reply": "2024-02-12T10:20:55.719595Z",
     "shell.execute_reply.started": "2024-02-12T10:19:08.846949Z"
    },
    "trusted": true
   },
   "outputs": [
    {
     "name": "stderr",
     "output_type": "stream",
     "text": [
      "/opt/conda/lib/python3.10/site-packages/torch/nn/parallel/_functions.py:68: UserWarning: Was asked to gather along dimension 0, but all input tensors were scalars; will instead unsqueeze and return a vector.\n",
      "  warnings.warn('Was asked to gather along dimension 0, but all '\n"
     ]
    },
    {
     "data": {
      "text/html": [],
      "text/plain": [
       "<IPython.core.display.HTML object>"
      ]
     },
     "metadata": {},
     "output_type": "display_data"
    },
    {
     "name": "stderr",
     "output_type": "stream",
     "text": [
      "/opt/conda/lib/python3.10/site-packages/torch/nn/parallel/_functions.py:68: UserWarning: Was asked to gather along dimension 0, but all input tensors were scalars; will instead unsqueeze and return a vector.\n",
      "  warnings.warn('Was asked to gather along dimension 0, but all '\n"
     ]
    },
    {
     "data": {
      "text/html": [],
      "text/plain": [
       "<IPython.core.display.HTML object>"
      ]
     },
     "metadata": {},
     "output_type": "display_data"
    }
   ],
   "source": [
    "predictions_prompt1 = regularized_trainer_prompt0.predict(val_data_prompt1)\n",
    "predictions_prompt0 = regularized_trainer_prompt0.predict(val_data_prompt0)"
   ]
  },
  {
   "cell_type": "code",
   "execution_count": 48,
   "metadata": {
    "execution": {
     "iopub.execute_input": "2024-02-12T10:20:55.722632Z",
     "iopub.status.busy": "2024-02-12T10:20:55.722249Z",
     "iopub.status.idle": "2024-02-12T10:20:56.691470Z",
     "shell.execute_reply": "2024-02-12T10:20:56.690477Z",
     "shell.execute_reply.started": "2024-02-12T10:20:55.722597Z"
    },
    "trusted": true
   },
   "outputs": [
    {
     "data": {
      "text/plain": [
       "Text(0.5, 1.0, 'prompt1 model histogram for AI generated predictions')"
      ]
     },
     "execution_count": 48,
     "metadata": {},
     "output_type": "execute_result"
    },
    {
     "data": {
      "image/png": "[encoded data removed]",
      "text/plain": [
       "<Figure size 1500x1000 with 4 Axes>"
      ]
     },
     "metadata": {},
     "output_type": "display_data"
    }
   ],
   "source": [
    "import matplotlib.pyplot as plt\n",
    "fig, axs = plt.subplots(2, 2, figsize=(15, 10))\n",
    "\n",
    "# Plotting histograms\n",
    "axs[0][0].hist(diff_logits_class(predictions_prompt0, 0))\n",
    "axs[0][0].set_title(\"prompt0 model histogram for non AI generated predictions\")\n",
    "\n",
    "axs[0][1].hist(diff_logits_class(predictions_prompt0, 1))\n",
    "axs[0][1].set_title(\"prompt0 model histogram for AI generated predictions\")\n",
    "\n",
    "axs[1][0].hist(diff_logits_class(predictions_prompt1, 0))\n",
    "axs[1][0].set_title(\"prompt1 model histogram for non AI generated predictions\")\n",
    "\n",
    "axs[1][1].hist(diff_logits_class(predictions_prompt1, 1))\n",
    "axs[1][1].set_title(\"prompt1 model histogram for AI generated predictions\")"
   ]
  },
  {
   "cell_type": "code",
   "execution_count": null,
   "metadata": {
    "trusted": true
   },
   "outputs": [],
   "source": [
    "predictions_prompt2 = regularized_trainer_prompt0.predict(val_data_prompt2)"
   ]
  },
  {
   "cell_type": "code",
   "execution_count": null,
   "metadata": {
    "trusted": true
   },
   "outputs": [],
   "source": [
    "fig, axs = plt.subplots(2, 2, figsize=(15, 10))\n",
    "\n",
    "# Plotting histograms\n",
    "axs[0][0].hist(diff_logits_class(predictions_prompt0, 0))\n",
    "axs[0][0].set_title(\"prompt0 model histogram for non AI generated predictions\")\n",
    "\n",
    "axs[0][1].hist(diff_logits_class(predictions_prompt0, 1))\n",
    "axs[0][1].set_title(\"prompt0 model histogram for AI generated predictions\")\n",
    "\n",
    "axs[1][0].hist(diff_logits_class(predictions_prompt2, 0))\n",
    "axs[1][0].set_title(\"prompt2 model histogram for non AI generated predictions\")\n",
    "\n",
    "axs[1][1].hist(diff_logits_class(predictions_prompt2, 1))\n",
    "axs[1][1].set_title(\"prompt2 model histogram for AI generated predictions\")"
   ]
  },
  {
   "cell_type": "markdown",
   "metadata": {},
   "source": [
    "### Testing the model"
   ]
  },
  {
   "cell_type": "code",
   "execution_count": 49,
   "metadata": {
    "execution": {
     "iopub.execute_input": "2024-02-12T10:20:56.694316Z",
     "iopub.status.busy": "2024-02-12T10:20:56.694041Z",
     "iopub.status.idle": "2024-02-12T10:20:56.698925Z",
     "shell.execute_reply": "2024-02-12T10:20:56.698095Z",
     "shell.execute_reply.started": "2024-02-12T10:20:56.694292Z"
    },
    "trusted": true
   },
   "outputs": [],
   "source": [
    "predictions = list(predictions_prompt0.predictions) + list(predictions_prompt1.predictions)"
   ]
  },
  {
   "cell_type": "code",
   "execution_count": 50,
   "metadata": {
    "execution": {
     "iopub.execute_input": "2024-02-12T10:20:56.700296Z",
     "iopub.status.busy": "2024-02-12T10:20:56.700032Z",
     "iopub.status.idle": "2024-02-12T10:20:56.718695Z",
     "shell.execute_reply": "2024-02-12T10:20:56.717782Z",
     "shell.execute_reply.started": "2024-02-12T10:20:56.700273Z"
    },
    "trusted": true
   },
   "outputs": [
    {
     "name": "stdout",
     "output_type": "stream",
     "text": [
      "roc_auc on both prompt0 and prompt1 validations data: 0.9799107142857143\n",
      "roc_auc on prompt0 validation data: 0.9956896551724138\n",
      "roc_auc on prompt1 validation data: 0.9650673400673401\n"
     ]
    }
   ],
   "source": [
    "print(f\"roc_auc on both prompt0 and prompt1 validations data: {testing_results(np.array(predictions), test_data)}\")\n",
    "print(f\"roc_auc on prompt0 validation data: {testing_results(predictions_prompt0.predictions, val_data_prompt0)}\")\n",
    "print(f\"roc_auc on prompt1 validation data: {testing_results(predictions_prompt1.predictions, val_data_prompt1)}\")"
   ]
  },
  {
   "cell_type": "code",
   "execution_count": 51,
   "metadata": {
    "execution": {
     "iopub.execute_input": "2024-02-12T10:20:56.720071Z",
     "iopub.status.busy": "2024-02-12T10:20:56.719737Z",
     "iopub.status.idle": "2024-02-12T10:20:56.733564Z",
     "shell.execute_reply": "2024-02-12T10:20:56.732696Z",
     "shell.execute_reply.started": "2024-02-12T10:20:56.720047Z"
    },
    "trusted": true
   },
   "outputs": [
    {
     "data": {
      "text/html": [
       "<div>\n",
       "<style scoped>\n",
       "    .dataframe tbody tr th:only-of-type {\n",
       "        vertical-align: middle;\n",
       "    }\n",
       "\n",
       "    .dataframe tbody tr th {\n",
       "        vertical-align: top;\n",
       "    }\n",
       "\n",
       "    .dataframe thead th {\n",
       "        text-align: right;\n",
       "    }\n",
       "</style>\n",
       "<table border=\"1\" class=\"dataframe\">\n",
       "  <thead>\n",
       "    <tr style=\"text-align: right;\">\n",
       "      <th></th>\n",
       "      <th>prompt</th>\n",
       "      <th>num bad predictions generated</th>\n",
       "      <th>num bad predictions non_generated</th>\n",
       "    </tr>\n",
       "  </thead>\n",
       "  <tbody>\n",
       "    <tr>\n",
       "      <th>0</th>\n",
       "      <td>prompt0</td>\n",
       "      <td>0</td>\n",
       "      <td>1</td>\n",
       "    </tr>\n",
       "    <tr>\n",
       "      <th>1</th>\n",
       "      <td>prompt1</td>\n",
       "      <td>8</td>\n",
       "      <td>1</td>\n",
       "    </tr>\n",
       "  </tbody>\n",
       "</table>\n",
       "</div>"
      ],
      "text/plain": [
       "    prompt  num bad predictions generated  num bad predictions non_generated\n",
       "0  prompt0                              0                                  1\n",
       "1  prompt1                              8                                  1"
      ]
     },
     "execution_count": 51,
     "metadata": {},
     "output_type": "execute_result"
    }
   ],
   "source": [
    "bad_preds_df_after_regu = pd.DataFrame({\n",
    "    \"prompt\": [\"prompt0\", \"prompt1\"],\n",
    "    \"num bad predictions generated\": [\n",
    "        get_bad_pred_number(predictions_prompt0.predictions, val_data_prompt0)[0],\n",
    "        get_bad_pred_number(predictions_prompt1.predictions, val_data_prompt1)[0]\n",
    "    ],\n",
    "    \"num bad predictions non_generated\": [\n",
    "        get_bad_pred_number(predictions_prompt0.predictions, val_data_prompt0)[1],\n",
    "        get_bad_pred_number(predictions_prompt1.predictions, val_data_prompt1)[1]\n",
    "    ]\n",
    "})\n",
    "bad_preds_df_after_regu"
   ]
  }
 ],
 "metadata": {
  "kaggle": {
   "accelerator": "nvidiaTeslaT4",
   "dataSources": [
    {
     "databundleVersionId": 7516023,
     "sourceId": 61542,
     "sourceType": "competition"
    },
    {
     "datasetId": 3937441,
     "sourceId": 6868189,
     "sourceType": "datasetVersion"
    },
    {
     "datasetId": 4005256,
     "sourceId": 6977472,
     "sourceType": "datasetVersion"
    },
    {
     "datasetId": 3937250,
     "sourceId": 7017419,
     "sourceType": "datasetVersion"
    },
    {
     "datasetId": 4035516,
     "sourceId": 7018354,
     "sourceType": "datasetVersion"
    },
    {
     "datasetId": 4076998,
     "sourceId": 7077932,
     "sourceType": "datasetVersion"
    },
    {
     "datasetId": 4077004,
     "sourceId": 7077938,
     "sourceType": "datasetVersion"
    },
    {
     "datasetId": 4419102,
     "sourceId": 7591533,
     "sourceType": "datasetVersion"
    },
    {
     "datasetId": 4419441,
     "sourceId": 7592454,
     "sourceType": "datasetVersion"
    },
    {
     "isSourceIdPinned": true,
     "modelInstanceId": 3900,
     "sourceId": 5112,
     "sourceType": "modelInstanceVersion"
    }
   ],
   "dockerImageVersionId": 30587,
   "isGpuEnabled": true,
   "isInternetEnabled": false,
   "language": "python",
   "sourceType": "notebook"
  },
  "kernelspec": {
   "display_name": "Python 3",
   "language": "python",
   "name": "python3"
  },
  "language_info": {
   "codemirror_mode": {
    "name": "ipython",
    "version": 3
   },
   "file_extension": ".py",
   "mimetype": "text/x-python",
   "name": "python",
   "nbconvert_exporter": "python",
   "pygments_lexer": "ipython3",
   "version": "3.10.12"
  }
 },
 "nbformat": 4,
 "nbformat_minor": 4
}
